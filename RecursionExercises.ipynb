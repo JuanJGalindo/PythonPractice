{
 "cells": [
  {
   "cell_type": "code",
   "execution_count": 3,
   "metadata": {},
   "outputs": [],
   "source": [
    "def my_sum(lst):\n",
    "    sum=0\n",
    "    for num in lst:\n",
    "        sum+=num\n",
    "        \n",
    "    return sum"
   ]
  },
  {
   "cell_type": "code",
   "execution_count": 4,
   "metadata": {},
   "outputs": [
    {
     "data": {
      "text/plain": [
       "45"
      ]
     },
     "execution_count": 4,
     "metadata": {},
     "output_type": "execute_result"
    }
   ],
   "source": [
    "my_sum([1,2,3,4,5,6,7,8,9])"
   ]
  },
  {
   "cell_type": "code",
   "execution_count": 41,
   "metadata": {},
   "outputs": [],
   "source": [
    "import numpy as np\n",
    "def my_chebyshev_poly1(n,x):\n",
    "    x=np.array(x)\n",
    "    y=np.array(x)\n",
    "    \n",
    "    if n==0: y[:]=1\n",
    "    elif n==1: y=x\n",
    "    else:    \n",
    "        y=2*x*my_chebyshev_poly1(n-1,x)-my_chebyshev_poly1(n-2,x)\n",
    "    \n",
    "    return y\n",
    "\n",
    "def my_chebyshev_poly2(n,x):\n",
    "    x=np.array(x)\n",
    "    y=np.array(x)\n",
    "    \n",
    "    if n==0: y[:]=1\n",
    "    elif n==1: y=2*x\n",
    "    else:    \n",
    "        y=2*x*my_chebyshev_poly1(n-1,x)-my_chebyshev_poly1(n-2,x)\n",
    "    \n",
    "    return y"
   ]
  },
  {
   "cell_type": "code",
   "execution_count": 42,
   "metadata": {},
   "outputs": [
    {
     "name": "stdout",
     "output_type": "stream",
     "text": [
      "[ 1  7 17 31 49]\n",
      "[ 1  7 17 31 49]\n"
     ]
    }
   ],
   "source": [
    "import numpy as np\n",
    "\n",
    "x = [1, 2, 3, 4, 5]\n",
    "print(my_chebyshev_poly1(2,x))\n",
    "print(my_chebyshev_poly2(2,x))"
   ]
  },
  {
   "cell_type": "code",
   "execution_count": 1,
   "metadata": {},
   "outputs": [],
   "source": [
    "def my_ackermann(m,n):\n",
    "    if m==0: return n+1\n",
    "    \n",
    "    elif n==0: return my_ackermann(m-1,1)\n",
    "    \n",
    "    elif m>0 and n>0: return my_ackermann(m-1, my_ackermann(m, n-1))\n"
   ]
  },
  {
   "cell_type": "code",
   "execution_count": 2,
   "metadata": {},
   "outputs": [
    {
     "ename": "",
     "evalue": "",
     "output_type": "error",
     "traceback": [
      "\u001b[1;31mCanceled future for execute_request message before replies were done"
     ]
    },
    {
     "ename": "",
     "evalue": "",
     "output_type": "error",
     "traceback": [
      "\u001b[1;31mThe Kernel crashed while executing code in the the current cell or a previous cell. Please review the code in the cell(s) to identify a possible cause of the failure. Click <a href='https://aka.ms/vscodeJupyterKernelCrash'>here</a> for more info. View Jupyter <a href='command:jupyter.viewOutput'>log</a> for further details."
     ]
    }
   ],
   "source": [
    "my_ackermann(3,4)"
   ]
  },
  {
   "cell_type": "code",
   "execution_count": null,
   "metadata": {},
   "outputs": [],
   "source": []
  }
 ],
 "metadata": {
  "kernelspec": {
   "display_name": "Python 3",
   "language": "python",
   "name": "python3"
  },
  "language_info": {
   "codemirror_mode": {
    "name": "ipython",
    "version": 3
   },
   "file_extension": ".py",
   "mimetype": "text/x-python",
   "name": "python",
   "nbconvert_exporter": "python",
   "pygments_lexer": "ipython3",
   "version": "3.10.5"
  },
  "orig_nbformat": 4
 },
 "nbformat": 4,
 "nbformat_minor": 2
}
